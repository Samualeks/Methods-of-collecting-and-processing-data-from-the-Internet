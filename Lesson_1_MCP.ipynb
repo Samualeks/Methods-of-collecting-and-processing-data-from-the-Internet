{
 "cells": [
  {
   "cell_type": "markdown",
   "id": "562e0a91",
   "metadata": {},
   "source": [
    "Методы сбора и обработки данных из сети Интернет\n",
    "\n",
    "Урок 1. Основы клиент-серверного взаимодействия. Работа с API\n",
    "\n",
    "1. Посмотреть документацию к API GitHub, разобраться как вывести список репозиториев для конкретного пользователя, сохранить JSON-вывод в файле *.json."
   ]
  },
  {
   "cell_type": "code",
   "execution_count": 1,
   "id": "cfc4de37",
   "metadata": {},
   "outputs": [],
   "source": [
    "import requests\n",
    "import json"
   ]
  },
  {
   "cell_type": "code",
   "execution_count": 2,
   "id": "f0daa452",
   "metadata": {},
   "outputs": [],
   "source": [
    "url = 'https://api.github.com'\n",
    "user='Samualeks'"
   ]
  },
  {
   "cell_type": "code",
   "execution_count": 3,
   "id": "f282b492",
   "metadata": {},
   "outputs": [],
   "source": [
    "r = requests.get(f'{url}/users/{user}/repos')"
   ]
  },
  {
   "cell_type": "code",
   "execution_count": 4,
   "id": "1fec5c28",
   "metadata": {},
   "outputs": [],
   "source": [
    "with open('data.json', 'w') as f:\n",
    "    json.dump(r.json(), f)"
   ]
  },
  {
   "cell_type": "code",
   "execution_count": 5,
   "id": "78871764",
   "metadata": {},
   "outputs": [
    {
     "name": "stdout",
     "output_type": "stream",
     "text": [
      "-Python-Data-Science-Numpy-Matplotlib-Scikit-learn\n",
      "1\n",
      "data-scientist\n",
      "Linear-algebra\n",
      "Methods-of-collecting-and-processing-data-from-the-Internet\n",
      "MySQL\n",
      "probability_theory\n",
      "Python-for-Data-Science\n",
      "Theory-of-Probability-and-Mathematical-Statistics\n"
     ]
    }
   ],
   "source": [
    "for i in r.json():\n",
    "    print(i['name'])"
   ]
  },
  {
   "cell_type": "markdown",
   "id": "b1607a06",
   "metadata": {},
   "source": [
    "2. Изучить список открытых API (https://www.programmableweb.com/category/all/apis). Найти среди них любое, требующее авторизацию (любого типа). Выполнить запросы к нему, пройдя авторизацию. Ответ сервера записать в файл."
   ]
  },
  {
   "cell_type": "code",
   "execution_count": 6,
   "id": "bacf4e96",
   "metadata": {},
   "outputs": [],
   "source": [
    "import requests\n",
    "import time\n",
    "import json"
   ]
  },
  {
   "cell_type": "code",
   "execution_count": 7,
   "id": "dacab040",
   "metadata": {},
   "outputs": [],
   "source": [
    "def get_data(service, appid,city):\n",
    "    while True:\n",
    "        time.sleep(1)\n",
    "        url = f'{service}?q={city}&appid={appid}'\n",
    "        response = requests.get(url)\n",
    "        if response.status_code == 200:\n",
    "            print(url)\n",
    "            break\n",
    "    return response.json()"
   ]
  },
  {
   "cell_type": "code",
   "execution_count": 8,
   "id": "a8fabe0a",
   "metadata": {},
   "outputs": [
    {
     "name": "stdout",
     "output_type": "stream",
     "text": [
      "https://samples.openweathermap.org/data/2.5/weather?q=London&appid=b6907d289e10d714a6e88b30761fae22\n",
      "Получен результат\n",
      "{'coord': {'lon': -0.13, 'lat': 51.51}, 'weather': [{'id': 300, 'main': 'Drizzle', 'description': 'light intensity drizzle', 'icon': '09d'}], 'base': 'stations', 'main': {'temp': 280.32, 'pressure': 1012, 'humidity': 81, 'temp_min': 279.15, 'temp_max': 281.15}, 'visibility': 10000, 'wind': {'speed': 4.1, 'deg': 80}, 'clouds': {'all': 90}, 'dt': 1485789600, 'sys': {'type': 1, 'id': 5091, 'message': 0.0103, 'country': 'GB', 'sunrise': 1485762037, 'sunset': 1485794875}, 'id': 2643743, 'name': 'London', 'cod': 200}\n"
     ]
    }
   ],
   "source": [
    "appid = 'b6907d289e10d714a6e88b30761fae22'\n",
    "service = 'https://samples.openweathermap.org/data/2.5/weather'\n",
    "city = 'London'\n",
    "# city ='Manchester,uk'\n",
    "response = get_data(service, appid, city)\n",
    "\n",
    "print('Получен результат')\n",
    "print(response)\n",
    "\n",
    "with open('1_2_weather.json', 'w') as f:\n",
    "    json_repo = json.dump(response, f)"
   ]
  },
  {
   "cell_type": "code",
   "execution_count": null,
   "id": "832d000c",
   "metadata": {},
   "outputs": [],
   "source": []
  }
 ],
 "metadata": {
  "kernelspec": {
   "display_name": "Python 3 (ipykernel)",
   "language": "python",
   "name": "python3"
  },
  "language_info": {
   "codemirror_mode": {
    "name": "ipython",
    "version": 3
   },
   "file_extension": ".py",
   "mimetype": "text/x-python",
   "name": "python",
   "nbconvert_exporter": "python",
   "pygments_lexer": "ipython3",
   "version": "3.9.12"
  }
 },
 "nbformat": 4,
 "nbformat_minor": 5
}
